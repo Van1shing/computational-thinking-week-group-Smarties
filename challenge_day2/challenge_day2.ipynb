{
 "cells": [
  {
   "attachments": {},
   "cell_type": "markdown",
   "metadata": {},
   "source": [
    "# Observation Challenge\n",
    "\n",
    "In this challenge, you have to create an algorithm based on several algorithm parts.\n",
    "\n",
    "## Stations\n",
    "Across the JK building, we have placed several stations. At each station, you can find sample inputs and their expected outputs for one of the algorithm parts.\n",
    "You must decipher the algorithm behind each station yourself.\n",
    "The locations of all the stations are listed where Lukas and Roland are sitting.\n",
    "\n",
    "# Your task\n",
    "- Create files in this directory named station1.py, station2.py, etc.\n",
    "- Each member of the team must commit (including any changes) at least one of these files.\n",
    "- Each of these files contains a function named solution_station_X(), where X is the station number, same as the file name\n",
    "- Fill out the cell below and generate the correct overall output\n",
    "- You are allowed to use all built-in Python modules, as well as numpy and pandas in your solutions."
   ]
  },
  {
   "cell_type": "code",
   "execution_count": 25,
   "metadata": {},
   "outputs": [
    {
     "ename": "TypeError",
     "evalue": "solution_station_7() missing 1 required positional argument: 'variables'",
     "output_type": "error",
     "traceback": [
      "\u001b[0;31m---------------------------------------------------------------------------\u001b[0m",
      "\u001b[0;31mTypeError\u001b[0m                                 Traceback (most recent call last)",
      "Cell \u001b[0;32mIn[25], line 37\u001b[0m\n\u001b[1;32m     34\u001b[0m     \u001b[38;5;28;01massert\u001b[39;00m \u001b[38;5;28misinstance\u001b[39m(output7, \u001b[38;5;28mfloat\u001b[39m)\n\u001b[1;32m     35\u001b[0m     \u001b[38;5;28;01mreturn\u001b[39;00m output1 \u001b[38;5;241m*\u001b[39m \u001b[38;5;28mint\u001b[39m\u001b[38;5;241m.\u001b[39mfrom_bytes(output2[\u001b[38;5;241m0\u001b[39m]\u001b[38;5;241m.\u001b[39mencode(\u001b[38;5;124m\"\u001b[39m\u001b[38;5;124municode_escape\u001b[39m\u001b[38;5;124m\"\u001b[39m), byteorder\u001b[38;5;241m=\u001b[39m\u001b[38;5;124m'\u001b[39m\u001b[38;5;124mbig\u001b[39m\u001b[38;5;124m'\u001b[39m) \u001b[38;5;241m*\u001b[39m (\u001b[38;5;241m3\u001b[39m \u001b[38;5;28;01mif\u001b[39;00m output3 \u001b[38;5;28;01melse\u001b[39;00m \u001b[38;5;241m2\u001b[39m) \u001b[38;5;241m*\u001b[39m (\u001b[38;5;241m5\u001b[39m \u001b[38;5;28;01mif\u001b[39;00m output4 \u001b[38;5;28;01melse\u001b[39;00m \u001b[38;5;241m4\u001b[39m) \u001b[38;5;241m*\u001b[39m output5 \u001b[38;5;241m*\u001b[39m output6 \u001b[38;5;241m*\u001b[39m output7\n\u001b[0;32m---> 37\u001b[0m FINAL_OUTPUT1 \u001b[38;5;241m=\u001b[39m combined_algorithm(observation1)\n\u001b[1;32m     38\u001b[0m FINAL_OUTPUT2 \u001b[38;5;241m=\u001b[39m combined_algorithm(observation2)\n\u001b[1;32m     39\u001b[0m FINAL_OUTPUT3 \u001b[38;5;241m=\u001b[39m combined_algorithm(observation3)\n",
      "Cell \u001b[0;32mIn[25], line 27\u001b[0m, in \u001b[0;36mcombined_algorithm\u001b[0;34m(observations)\u001b[0m\n\u001b[1;32m     25\u001b[0m output5 \u001b[38;5;241m=\u001b[39m solution_station_5(observations[\u001b[38;5;241m5\u001b[39m])\n\u001b[1;32m     26\u001b[0m output6 \u001b[38;5;241m=\u001b[39m solution_station_6(observations[\u001b[38;5;241m6\u001b[39m])\n\u001b[0;32m---> 27\u001b[0m output7 \u001b[38;5;241m=\u001b[39m solution_station_7(observations[\u001b[38;5;241m7\u001b[39m])\n\u001b[1;32m     28\u001b[0m \u001b[38;5;28;01massert\u001b[39;00m \u001b[38;5;28misinstance\u001b[39m(output1, \u001b[38;5;28mint\u001b[39m)\n\u001b[1;32m     29\u001b[0m \u001b[38;5;28;01massert\u001b[39;00m \u001b[38;5;28misinstance\u001b[39m(output2, \u001b[38;5;28mstr\u001b[39m)\n",
      "\u001b[0;31mTypeError\u001b[0m: solution_station_7() missing 1 required positional argument: 'variables'"
     ]
    }
   ],
   "source": [
    "from tests import tests\n",
    "from station1 import solution_station_1\n",
    "from station2 import solution_station_2\n",
    "from station3 import solution_station_3\n",
    "from station4 import solution_station_4\n",
    "from station5 import solution_station_5\n",
    "from station6 import solution_station_6\n",
    "from station7 import solution_station_7\n",
    "\n",
    "# List three observations of all inputs (not sample inputs) observed at the same time\n",
    "# Format: (time: str, station1_input: int, station2_input: str, station3_input: int, station4_input: int, station5_input: str, station6_input: int, station7_input: str)\n",
    "# Example: ('12:30:00', 1, '1990-01-01', 2, 3, \"John\", 4, \"e=mc^2\")\n",
    "observation1 = ('13:22:30', 23, \"2024-11-07\",71122,7112,\"Osjah\",47,\"b*a\")\n",
    "observation2 = ('13:22:31', 47, \"2024-02-10\" ,46388 ,4638, \"David C\", 91, \"c+b*d+a\")\n",
    "observation3 = (\"13:22:50\", 83, \"2024-11-15\",24854,2485, \"Margarita\", 62, \"d+b*e\")\n",
    "\n",
    "\n",
    "\n",
    "def combined_algorithm(observations: tuple) -> int:\n",
    "\n",
    "    output1 = solution_station_1(observations[1])\n",
    "    output2 = solution_station_2(observations[2])\n",
    "    output3 = solution_station_3(observations[3])\n",
    "    output4 = solution_station_4(observations[4])\n",
    "    output5 = solution_station_5(observations[5])\n",
    "    output6 = solution_station_6(observations[6])\n",
    "    output7 = solution_station_7(observations[7])\n",
    "    assert isinstance(output1, int)\n",
    "    assert isinstance(output2, str)\n",
    "    assert isinstance(output3, bool)\n",
    "    assert isinstance(output4, bool)\n",
    "    assert isinstance(output5, int)\n",
    "    assert isinstance(output6, float)\n",
    "    assert isinstance(output7, float)\n",
    "    return output1 * int.from_bytes(output2[0].encode(\"unicode_escape\"), byteorder='big') * (3 if output3 else 2) * (5 if output4 else 4) * output5 * output6 * output7\n",
    "\n",
    "FINAL_OUTPUT1 = combined_algorithm(observation1)\n",
    "FINAL_OUTPUT2 = combined_algorithm(observation2)\n",
    "FINAL_OUTPUT3 = combined_algorithm(observation3)\n",
    "tests.Test_Exercise(combined_algorithm);"
   ]
  }
 ],
 "metadata": {
  "kernelspec": {
   "display_name": "Python 3.10.5 64-bit",
   "language": "python",
   "name": "python3"
  },
  "language_info": {
   "codemirror_mode": {
    "name": "ipython",
    "version": 3
   },
   "file_extension": ".py",
   "mimetype": "text/x-python",
   "name": "python",
   "nbconvert_exporter": "python",
   "pygments_lexer": "ipython3",
   "version": "3.12.4"
  },
  "orig_nbformat": 4,
  "vscode": {
   "interpreter": {
    "hash": "2f9d6cf1e3d8195079a65c851de355134a77367bcd714b1a5d498c42d3c07114"
   }
  }
 },
 "nbformat": 4,
 "nbformat_minor": 2
}
